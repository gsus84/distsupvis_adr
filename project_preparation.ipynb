{
 "cells": [
  {
   "cell_type": "code",
   "execution_count": 1,
   "metadata": {},
   "outputs": [],
   "source": [
    "import os\n",
    "import requests\n",
    "import io\n",
    "import zipfile"
   ]
  },
  {
   "cell_type": "code",
   "execution_count": 2,
   "metadata": {},
   "outputs": [],
   "source": [
    "# create data directories\n",
    "data_dirs = [\n",
    "    \"data\",\"data/cvponline_extract_20191231\", \n",
    "    \"data/featurized_sentences\", \"data/knowledge_base\", \n",
    "    \"data/pubmed_json\", \"data/pubmed_packed\", \"data/statistic\",\n",
    "    \"data/statistic/featurize_stat\", \"data/statistic/tag_stats\",\n",
    "    \"data/tagged_sentences\"\n",
    "]\n",
    "\n",
    "for dir_name in data_dirs:\n",
    "    try:\n",
    "        os.mkdir(dir_name)\n",
    "    except FileExistsError:\n",
    "        pass"
   ]
  },
  {
   "cell_type": "code",
   "execution_count": 3,
   "metadata": {},
   "outputs": [],
   "source": [
    "# download cvponline data base\n",
    "\n",
    "url = \"https://www.canada.ca/content/dam/hc-sc/migration/hc-sc/dhp-mps/alt_formats/zip/medeff/databasdon/extract_extrait.zip\"\n",
    "response = requests.get(url)\n",
    "with zipfile.ZipFile(io.BytesIO(response.content)) as thezip:\n",
    "    thezip.extractall(path=\"data/\")"
   ]
  },
  {
   "cell_type": "code",
   "execution_count": 4,
   "metadata": {},
   "outputs": [],
   "source": [
    "# Create data directory\n",
    "for dir_name in os.listdir(\"data/\"):\n",
    "    if dir_name.startswith(\"cvponline_extract\"):\n",
    "        os.rename(\"data/\" + dir_name, \"data/cvponline_extract\")\n",
    "        break"
   ]
  },
  {
   "cell_type": "code",
   "execution_count": 5,
   "metadata": {},
   "outputs": [
    {
     "name": "stdout",
     "output_type": "stream",
     "text": [
      "________________________\n",
      "reactions data\n",
      "len reactions: 2998059\n",
      "examples\n",
      "[CVPReaction(reaction_identifier='2601', adverse_react_report='26', adverse_react_term='Rash', system_organ_class='Skin and subcutaneous tissue disorders'), CVPReaction(reaction_identifier='2702', adverse_react_report='27', adverse_react_term='Thrombocytopenia', system_organ_class='Blood and lymphatic system disorders'), CVPReaction(reaction_identifier='2701', adverse_react_report='27', adverse_react_term='Dermatitis bullous', system_organ_class='Skin and subcutaneous tissue disorders'), CVPReaction(reaction_identifier='2801', adverse_react_report='28', adverse_react_term='Chest pain', system_organ_class='General disorders and administration site conditions'), CVPReaction(reaction_identifier='2804', adverse_react_report='28', adverse_react_term='Vomiting', system_organ_class='Gastrointestinal disorders')]\n",
      "________________________\n",
      "report drug data\n",
      "length rep_drug: 3289727\n",
      "examples\n",
      "[CVPReportDrug(report_drug_identifier='91', adverse_react_report='15', brand_name='INH'), CVPReportDrug(report_drug_identifier='93', adverse_react_report='16', brand_name='PAS'), CVPReportDrug(report_drug_identifier='95', adverse_react_report='18', brand_name='INH'), CVPReportDrug(report_drug_identifier='97', adverse_react_report='19', brand_name='INH'), CVPReportDrug(report_drug_identifier='98', adverse_react_report='20', brand_name='INH')]\n",
      "len(rep_ids_reactions): 835162\n",
      "len(rep_ids_rep_drug): 835694\n"
     ]
    }
   ],
   "source": [
    "from src.kb_preprocessing.get_drug_name_reaction_pairs import create_drug_name_reaction_pairs\n",
    "\n",
    "create_drug_name_reaction_pairs(\n",
    "    react_data_path=\"data/cvponline_extract/reactions.txt\",\n",
    "    report_drug_path=\"data/cvponline_extract/report_drug.txt\",\n",
    "    react_drug_pair_targ_path=\"data/knowledge_base/reaction_drug_brand_pairs.txt\"\n",
    ")"
   ]
  },
  {
   "cell_type": "code",
   "execution_count": 6,
   "metadata": {},
   "outputs": [
    {
     "name": "stdout",
     "output_type": "stream",
     "text": [
      "#################\n",
      "Counter({'total_drug_name_reaction_pairs_database': 19628047, 'total_brand_names_database': 37233, 'total_drug_name_database_without_suffix_filtered_drug_token': 28060, 'total_reactions_database': 12508, 'total_drug_name_database_with_single_suffix_filtered_drug_token': 7828, 'total_drug_names_suffix_filtered': 2939, 'total_drug_name_database_with_multiple_suffix_filtered_drug_token': 1345, 'total_drug_name_database_multiple_suffix_filtered_drug_token_NO_2': 1067, 'total_drug_name_database_multiple_suffix_filtered_drug_token_NO_3': 159, 'total_drug_name_database_multiple_suffix_filtered_drug_token_NO_4': 63, 'total_drug_name_database_multiple_suffix_filtered_drug_token_NO_5': 31, 'total_drug_name_database_multiple_suffix_filtered_drug_token_NO_6': 17, 'total_drug_name_database_multiple_suffix_filtered_drug_token_NO_7': 5, 'total_drug_name_database_multiple_suffix_filtered_drug_token_NO_9': 1, 'total_drug_name_database_multiple_suffix_filtered_drug_token_NO_8': 1, 'total_drug_name_database_multiple_suffix_filtered_drug_token_NO_10': 1})\n"
     ]
    }
   ],
   "source": [
    "from src.kb_preprocessing.get_kb_triple import create_kb_triple\n",
    "\n",
    "create_kb_triple()"
   ]
  },
  {
   "cell_type": "code",
   "execution_count": 7,
   "metadata": {},
   "outputs": [],
   "source": [
    "from src.kb_preprocessing.reaction_name_extraction import extract_sorted_reaction_dict\n",
    "\n",
    "extract_sorted_reaction_dict()"
   ]
  },
  {
   "cell_type": "code",
   "execution_count": 8,
   "metadata": {},
   "outputs": [],
   "source": [
    "start_index = 1\n",
    "end_index = 2"
   ]
  },
  {
   "cell_type": "code",
   "execution_count": 9,
   "metadata": {},
   "outputs": [],
   "source": [
    "from src.medline_preprocessing.download import numbered_files_ftp_download\n",
    "\n",
    "numbered_files_ftp_download(start_index=start_index, end_index=end_index)"
   ]
  },
  {
   "cell_type": "code",
   "execution_count": 10,
   "metadata": {},
   "outputs": [
    {
     "name": "stdout",
     "output_type": "stream",
     "text": [
      "WARNING: No Author found\n",
      "WARNING: No Author found\n",
      "WARNING: No Author found\n",
      "WARNING: No Author found\n",
      "WARNING: No Author found\n",
      "WARNING: No Author found\n",
      "WARNING: No Author found\n",
      "WARNING: No Author found\n",
      "WARNING: No Author found\n",
      "WARNING: No Author found\n",
      "WARNING: No Author found\n",
      "WARNING: No Author found\n",
      "WARNING: No Author found\n",
      "WARNING: No Author found\n",
      "WARNING: No Author found\n",
      "WARNING: No Author found\n",
      "WARNING: No Author found\n",
      "WARNING: No Author found\n",
      "WARNING: No Author found\n",
      "WARNING: No Author found\n",
      "WARNING: No Author found\n",
      "WARNING: No Author found\n",
      "WARNING: No Author found\n",
      "WARNING: No Author found\n",
      "WARNING: No Author found\n",
      "WARNING: No Author found\n",
      "WARNING: No Author found\n",
      "WARNING: No Author found\n",
      "WARNING: No Author found\n",
      "WARNING: No Author found\n",
      "WARNING: No Author found\n",
      "WARNING: No Author found\n",
      "WARNING: No Author found\n",
      "WARNING: No Author found\n",
      "WARNING: No Author found\n",
      "WARNING: No Author found\n",
      "WARNING: No Author found\n",
      "WARNING: No Author found\n",
      "WARNING: No Author found\n",
      "WARNING: No Author found\n",
      "WARNING: No Author found\n",
      "WARNING: No Author found\n",
      "WARNING: No Author found\n",
      "WARNING: No Author found\n",
      "WARNING: No Author found\n",
      "WARNING: No Author found\n",
      "WARNING: No Author found\n",
      "WARNING: No Author found\n",
      "WARNING: No Author found\n",
      "WARNING: No Author found\n",
      "WARNING: No Author found\n",
      "WARNING: No Author found\n",
      "WARNING: No Author found\n",
      "WARNING: No Author found\n",
      "WARNING: No Author found\n",
      "WARNING: No Author found\n",
      "WARNING: No Author found\n",
      "WARNING: No Author found\n",
      "WARNING: No Author found\n",
      "WARNING: No Author found\n",
      "WARNING: No Author found\n",
      "WARNING: No Author found\n",
      "WARNING: No Author found\n",
      "WARNING: No Author found\n",
      "WARNING: No Author found\n",
      "WARNING: No Author found\n",
      "WARNING: No Author found\n",
      "WARNING: No Author found\n",
      "WARNING: No Author found\n",
      "WARNING: No Author found\n",
      "WARNING: No Author found\n",
      "WARNING: No Author found\n",
      "WARNING: No Author found\n",
      "WARNING: No Author found\n",
      "WARNING: No Author found\n",
      "WARNING: No Author found\n",
      "WARNING: No Author found\n",
      "WARNING: No Author found\n",
      "WARNING: No Author found\n",
      "WARNING: No Author found\n",
      "WARNING: No Author found\n",
      "WARNING: No Author found\n"
     ]
    }
   ],
   "source": [
    "from src.medline_preprocessing.medl_xml_to_json import pubmed_pack_to_json\n",
    "\n",
    "pubmed_pack_to_json(start_index, end_index)"
   ]
  },
  {
   "cell_type": "code",
   "execution_count": 11,
   "metadata": {},
   "outputs": [
    {
     "name": "stdout",
     "output_type": "stream",
     "text": [
      "reactions keys: dict_keys(['5', 'a', 'b', 'c', 'd', 'e', 'f', 'g', 'h', 'i', 'j', 'k', 'l', 'm', 'n', 'o', 'p', 'q', 'r', 's', 't', 'u', 'v', 'w', 'x', 'y', 'z'])\n",
      "number drug_names: 2939\n"
     ]
    }
   ],
   "source": [
    "from src.medline_preprocessing.medl_sent_parse import parse_sents\n",
    "\n",
    "# Attention: parsing one file takes a little more time\n",
    "#            parsing many files takes many hours\n",
    "parse_sents(start_index=start_index, end_index=end_index)"
   ]
  },
  {
   "cell_type": "code",
   "execution_count": 12,
   "metadata": {},
   "outputs": [],
   "source": [
    "from src.medline_preprocessing.featurize import SentenceFeaturerizer\n",
    "\n",
    "sent_featurizer = SentenceFeaturerizer()\n",
    "sent_featurizer.featurize_tagged_pubmed_sents(start_index, end_index)"
   ]
  }
 ],
 "metadata": {
  "kernelspec": {
   "display_name": "Python 3",
   "language": "python",
   "name": "python3"
  },
  "language_info": {
   "codemirror_mode": {
    "name": "ipython",
    "version": 3
   },
   "file_extension": ".py",
   "mimetype": "text/x-python",
   "name": "python",
   "nbconvert_exporter": "python",
   "pygments_lexer": "ipython3",
   "version": "3.8.5"
  }
 },
 "nbformat": 4,
 "nbformat_minor": 4
}
