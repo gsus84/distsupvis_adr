{
 "cells": [
  {
   "cell_type": "code",
   "execution_count": 5,
   "metadata": {},
   "outputs": [],
   "source": [
    "import json\n",
    "\n",
    "from collections import Counter"
   ]
  },
  {
   "cell_type": "code",
   "execution_count": 13,
   "metadata": {},
   "outputs": [],
   "source": [
    "def load_stat_files(\n",
    "    start: int = 1, \n",
    "    end: int = 21,\n",
    "    path: str = \"data/statistic/featurize_stat/\",\n",
    "    file_naming: str = \"featurized_sents_pubmed20n\"\n",
    "):\n",
    "    total_featurize_stat = Counter()\n",
    "    total_drug_names_kicked_out = Counter()\n",
    "    total_reactions_kicked_out = Counter()\n",
    "    \n",
    "    max_drug_ents_list_len = 0\n",
    "    max_reacts_list_len = 0\n",
    "    \n",
    "    for file_index in range(start, end):\n",
    "        s_i = str(file_index)\n",
    "        zeros = \"0\" * (4 - len(s_i))\n",
    "        feat_stat_file = path + file_naming + f\"{zeros + s_i}_stat.json\"\n",
    "        with open(feat_stat_file, \"r\") as json_file:\n",
    "            file_data = json.load(json_file)\n",
    "        \n",
    "        total_featurize_stat += file_data[\"featurize_stat\"]\n",
    "        total_drug_names_kicked_out += file_data[\"drug_names_kicked_out\"]\n",
    "        total_reactions_kicked_out += file_data[\"reactions_kicked_out\"]\n",
    "        try:\n",
    "            if file_data[\"featurize_stat\"][\"max_drug_ents\"] > max_drug_ents_list_len:\n",
    "                max_drug_ents_list_len = file_data[\"featurize_stat\"][\"max_drug_ents\"]\n",
    "\n",
    "            if file_data[\"featurize_stat\"][\"max_reactions\"] > max_reacts_list_len:\n",
    "                max_reacts_list_len = file_data[\"featurize_stat\"][\"max_reactions\"]\n",
    "        except KeyError:\n",
    "            print(feat_stat_file)\n",
    "            continue\n",
    "    total_featurize_stat[\"max_reactions\"] = max_reacts_list_len\n",
    "    total_featurize_stat[\"max_drug_ents\"] = max_drug_ents_list_len\n",
    "    \n",
    "    return total_featurize_stat, total_drug_names_kicked_out, total_reactions_kicked_out\n"
   ]
  },
  {
   "cell_type": "code",
   "execution_count": 14,
   "metadata": {},
   "outputs": [
    {
     "name": "stdout",
     "output_type": "stream",
     "text": [
      "data/statistic/featurize_stat/featurized_sents_pubmed20n0654_stat.json\n"
     ]
    }
   ],
   "source": [
    "total_featurize_stat, total_drug_names_kicked_out, total_reactions_kicked_out = load_stat_files(end=1016)"
   ]
  },
  {
   "cell_type": "code",
   "execution_count": 15,
   "metadata": {},
   "outputs": [
    {
     "name": "stdout",
     "output_type": "stream",
     "text": [
      "{\n",
      "    \"10_combinations_same_sent\": 2240,\n",
      "    \"12_combinations_same_sent\": 2002,\n",
      "    \"15_combinations_same_sent\": 400,\n",
      "    \"18_combinations_same_sent\": 162,\n",
      "    \"1_combinations_same_sent\": 1647860,\n",
      "    \"21_combinations_same_sent\": 48,\n",
      "    \"2_combinations_same_sent\": 706106,\n",
      "    \"3_combinations_same_sent\": 195509,\n",
      "    \"4_combinations_same_sent\": 116237,\n",
      "    \"5_combinations_same_sent\": 19775,\n",
      "    \"6_combinations_same_sent\": 33327,\n",
      "    \"8_combinations_same_sent\": 8079,\n",
      "    \"9_combinations_same_sent\": 3143,\n",
      "    \"drug_first\": 607331,\n",
      "    \"drugs_checked\": 3336289,\n",
      "    \"entity_names_and_entity_pos_names_not_comparable\": 1144,\n",
      "    \"max_drug_ents\": 105,\n",
      "    \"max_reactions\": 40,\n",
      "    \"reaction_first\": 4620368,\n",
      "    \"reactions_check_off_set_names_failed\": 1007,\n",
      "    \"reactions_checked\": 5228706,\n",
      "    \"total_featurized_sentences\": 5227699,\n",
      "    \"total_number_drugs\": 3105545,\n",
      "    \"total_number_featurized_sents_incl_sent_doubles_possible\": 4596103,\n",
      "    \"total_number_reactions\": 4053833,\n",
      "    \"7_combinations_same_sent\": 2497,\n",
      "    \"drugs_check_off_set_names_failed\": 137,\n",
      "    \"14_combinations_same_sent\": 271,\n",
      "    \"35_combinations_same_sent\": 5,\n",
      "    \"20_combinations_same_sent\": 105,\n",
      "    \"16_combinations_same_sent\": 250,\n",
      "    \"24_combinations_same_sent\": 51,\n",
      "    \"11_combinations_same_sent\": 88,\n",
      "    \"27_combinations_same_sent\": 11,\n",
      "    \"22_combinations_same_sent\": 11,\n",
      "    \"28_combinations_same_sent\": 20,\n",
      "    \"13_combinations_same_sent\": 22,\n",
      "    \"25_combinations_same_sent\": 19,\n",
      "    \"17_combinations_same_sent\": 5,\n",
      "    \"32_combinations_same_sent\": 7,\n",
      "    \"30_combinations_same_sent\": 19,\n",
      "    \"36_combinations_same_sent\": 13,\n",
      "    \"45_combinations_same_sent\": 6,\n",
      "    \"49_combinations_same_sent\": 1,\n",
      "    \"144_combinations_same_sent\": 1,\n",
      "    \"79_combinations_same_sent\": 1,\n",
      "    \"42_combinations_same_sent\": 4,\n",
      "    \"48_combinations_same_sent\": 3,\n",
      "    \"41_combinations_same_sent\": 2,\n",
      "    \"37_combinations_same_sent\": 1,\n",
      "    \"29_combinations_same_sent\": 1,\n",
      "    \"105_combinations_same_sent\": 1,\n",
      "    \"56_combinations_same_sent\": 1,\n",
      "    \"40_combinations_same_sent\": 6,\n",
      "    \"46_combinations_same_sent\": 2,\n",
      "    \"74_combinations_same_sent\": 1,\n",
      "    \"106_combinations_same_sent\": 1,\n",
      "    \"54_combinations_same_sent\": 1,\n",
      "    \"44_combinations_same_sent\": 1,\n",
      "    \"406_combinations_same_sent\": 1,\n",
      "    \"53_combinations_same_sent\": 1,\n",
      "    \"135_combinations_same_sent\": 1,\n",
      "    \"39_combinations_same_sent\": 3,\n",
      "    \"51_combinations_same_sent\": 1,\n",
      "    \"19_combinations_same_sent\": 2,\n",
      "    \"114_combinations_same_sent\": 1,\n",
      "    \"138_combinations_same_sent\": 1,\n",
      "    \"153_combinations_same_sent\": 1,\n",
      "    \"168_combinations_same_sent\": 1,\n",
      "    \"55_combinations_same_sent\": 3,\n",
      "    \"112_combinations_same_sent\": 1,\n",
      "    \"33_combinations_same_sent\": 1,\n",
      "    \"23_combinations_same_sent\": 1,\n",
      "    \"26_combinations_same_sent\": 1\n",
      "}\n"
     ]
    }
   ],
   "source": [
    "print(json.dumps(total_featurize_stat, indent=4))"
   ]
  },
  {
   "cell_type": "code",
   "execution_count": 8,
   "metadata": {},
   "outputs": [
    {
     "name": "stdout",
     "output_type": "stream",
     "text": [
      "2738336\n"
     ]
    }
   ],
   "source": [
    "total_combinations = 0\n",
    "\n",
    "for key, val in total_featurize_stat.items():\n",
    "    if key.endswith(\"_combinations_same_sent\"):\n",
    "        total_combinations += val\n",
    "print(total_combinations)"
   ]
  },
  {
   "cell_type": "code",
   "execution_count": 6,
   "metadata": {},
   "outputs": [
    {
     "name": "stdout",
     "output_type": "stream",
     "text": [
      "Counter({'cholesterol': 377491, 'sodium': 55039, 'uracil': 54427, 'ac': 53500, 'peptide': 52240, 'cardiac': 52092, 'calcium': 42878, 'potassium': 39198, 'pred': 38532, 'medium': 35875, 'heparin': 31708, 'propranolol': 30800, 'basal': 23148, 'technetium': 22501, 'cisplatin': 21955, 'dopamine': 19400, 'methotrexate': 18923, 'endocrine': 17580, 'magnesium': 17331, 'doxorubicin': 17331, 'polypeptide': 17163, 'globulin': 16054, 'gallium': 15813, 'ammonium': 15371, 'sal': 14435, 'lithium': 14306, 'tamoxifen': 13850, 'immunoglobulin': 13730, 'nifedipine': 13430, 'adriamycin': 13242, 'lidocaine': 12972, 'chromium': 12330, 'leptin': 12307, 'diazepam': 11858, 'verapamil': 11505, 'captopril': 11487, 'surfactant': 11100, 'paclitaxel': 10615, 'histidine': 10514, 'thallium': 10266, 'pindolol': 10237, '5-fluorouracil': 10219, 'diclofenac': 9759, 'pregnenolone': 9195, 'double-blind': 8900, 'cocaine': 8527, 'beta-carotene': 8480, 'vasopressin': 7956, 'fluoxetine': 7550, 'enalapril': 7347, 'pentoxifylline': 7281, 'penicillin': 7166, 'clindamycin': 7092, 'l-dopa': 6993, 'ibuprofen': 6958, 'concomitant': 6930, 'haloperidol': 6915, 'bupivacaine': 6911, 'furosemide': 6847, 'pentazocine': 6660, 'prazosin': 6619, 'erythromycin': 6564, 'imipramine': 6513, 'amitriptyline': 6269, 'infliximab': 6261, 'tac': 5969, 'metronidazole': 5877, 'cimetidine': 5852, 'carboplatin': 5840, 'quinolone': 5840, 'phenytoin': 5837, 'trimethoprim': 5704, 'helium': 5691, 'cyclosporin': 5687, 'buspirone': 5621, 'methylprednisolone': 5585, 'indium': 5553, 'prednisolone': 5430, 'nasal': 5374, 'acyclovir': 5354, 'alprenolol': 5290, 'docetaxel': 5199, 'gemcitabine': 5194, 'doxazosin': 5142, 'octreotide': 5091, 'isoflurane': 5054, 'gentamicin': 5050, 'amiodarone': 5039, 'bevacizumab': 5011, 'sevoflurane': 4757, 'irinotecan': 4701, 'flunitrazepam': 4646, 'etanercept': 4642, 'rubidium': 4598, 'somatostatin': 4511, 'ranitidine': 4504, 'metformin': 4499, 'metoprolol': 4484, 'bleomycin': 4385, 'daunorubicin': 4365, 'clostridium': 4342, 'selenium': 4334, 'simvastatin': 4326, 'rituximab': 4284, 'ampicillin': 4260, 'hydralazine': 4158, 'triamcinolone': 4148, 'mitomycin': 4038, 'levonorgestrel': 4016, 'barium': 3866, 'atenolol': 3865, 'titanium': 3810, 'secretin': 3734, 'paradox': 3650, 'papaverine': 3604, 'losartan': 3594, 'epirubicin': 3565, 'amlodipine': 3552, 'sumatriptan': 3513, 'diltiazem': 3486, 'mifepristone': 3464, 'capecitabine': 3407, 'fluorouracil': 3379, 'mitoxantrone': 3367, 'pectin': 3202, 'goserelin': 3160, 'tetracycline': 3133, 'nisoldipine': 3107, 'nimodipine': 3106, 'paroxetine': 3102, 'felodipine': 3098, 'hydrochlorothiazide': 3090, 'streptomycin': 3071, 'cephalosporin': 3061, 'sotalol': 2951, 'prilocaine': 2935, 'belgium': 2911, 'droperidol': 2903, 'carotene': 2890, 'dapsone': 2871, 'alendronate': 2845, 'cetuximab': 2835, 'vancomycin': 2810, 'neomycin': 2794, 'mycelium': 2784, 'lorazepam': 2716, 'mebendazole': 2709, 'vinblastine': 2691, 'pravastatin': 2681, 'liraglutide': 2673, 'methoxyflurane': 2630, 'piroxicam': 2627, 'rivaroxaban': 2612, 'tadalafil': 2597, 'cyproheptadine': 2581, 'strontium': 2558, 'norfloxacin': 2557, 'ramipril': 2522, 'buserelin': 2521, 'sirolimus': 2514, 'ketotifen': 2508, 'nac': 2477, 'acetanilide': 2451, 'rev': 2431, 'doxycycline': 2425, 'atracurium': 2412, 'risperidone': 2394, 'venlafaxine': 2386, 'domperidone': 2383, 'tacrolimus': 2365, 'desogestrel': 2356, 'sildenafil': 2320, 'quetiapine': 2318, 'gefitinib': 2312, 'exemestane': 2302, 'fac': 2291, 'pantoprazole': 2288, 'azithromycin': 2252, 'trastuzumab': 2227, 'timolol': 2207, 'actinomycin': 2181, 'sunitinib': 2147, 'anastrozole': 2126, 'denosumab': 2104, 'ketoprofen': 2046, 'pemetrexed': 2035, 'enflurane': 2030, 'menopausal': 2028, 'oxaliplatin': 2021, 'miconazole': 2011, 'rofecoxib': 2004, 'ketoconazole': 1971, 'pyrantel': 1970, 'rifamycin': 1951, 'letrozole': 1908, 'celiprolol': 1892, 'flumazenil': 1892, 'ropivacaine': 1884, 'neostigmine': 1841, 'defibrotide': 1830, 'vardenafil': 1830, 'rosiglitazone': 1826, 'clopidogrel': 1813, 'indapamide': 1785, 'memantine': 1776, 'pancuronium': 1767, 'ondansetron': 1765, 'ranibizumab': 1764, 'enoxaparin': 1762, 'ganciclovir': 1746, 'albuterol': 1723, 'cilazapril': 1718, 'physostigmine': 1687, 'omeprazole': 1679, 'budesonide': 1670, 'aliskiren': 1667, 'everolimus': 1662, 'oseltamivir': 1661, 'tobramycin': 1660, 'urapidil': 1658, 'amoxicillin': 1633, 'amisulpride': 1621, 'cinacalcet': 1618, 'enalaprilat': 1594, 'pioglitazone': 1592, 'amoxycillin': 1580, 'esmolol': 1563, 'nitrendipine': 1562, 'valium': 1562, 'alfentanil': 1538, 'atorvastatin': 1530, 'clofibrate': 1517, 'mer': 1515, 'fluconazole': 1504, 'dalteparin': 1494, 'nadroparin': 1494, 'cerivastatin': 1491, 'fluvastatin': 1491, 'corynebacterium': 1488, 'radium': 1484, 'aluminium': 1473, 'famciclovir': 1462, 'imiquimod': 1460, 'meropenem': 1459, 'sandostatin': 1457, 'endostatin': 1455, 'vac': 1438, 'dactinomycin': 1428, 'bendamustine': 1425, 'epoetin': 1424, 'levodopa': 1399, 'piperacillin': 1383, 'irbesartan': 1381, 'benperidol': 1376, 'clonazepam': 1358, 'thiabendazole': 1349, 'submucosal': 1347, 'latanoprost': 1344, 'telmisartan': 1339, 'reserpine': 1327, 'mepivacaine': 1318, 'intranasal': 1318, 'exenatide': 1313, 'panitumumab': 1307, 'floxuridine': 1305, 'felbamate': 1290, 'fingolimod': 1286, 'teriparatide': 1284, 'opium': 1282, 'fludarabine': 1278, 'erlotinib': 1278, 'risedronate': 1272, 'lutetium': 1270, 'bortezomib': 1258, 'filgrastim': 1250, 'phenformin': 1239, 'ozogamicin': 1237, 'meperidine': 1224, 'sufentanil': 1214, 'itraconazole': 1200, 'phencyclidine': 1197, 'allium': 1190, 'ketorolac': 1174, 'candesartan': 1164, 'vanadium': 1151, 'cladribine': 1144, 'vecuronium': 1140, 'linezolid': 1124, 'entecavir': 1121, 'oxytetracycline': 1119, 'alemtuzumab': 1084, 'quinapril': 1079, 'lamivudine': 1077, 'clarithromycin': 1073, 'argatroban': 1063, 'solium': 1061, 'bifidobacterium': 1056, 'levetiracetam': 1055, 'thiazide': 1049, 'finasteride': 1040, 'aciclovir': 1038, 'bosentan': 1038, 'drospirenone': 1035, 'abacavir': 1032, 'rivastigmine': 1029, 'acebutolol': 1003, 'dixarit': 1003, 'kanamycin': 1003, 'trimipramine': 1003, 'floctafenine': 1002, 'desipramine': 987, 'edrophonium': 985, 'varenicline': 984, 'adalimumab': 982, 'fotemustine': 973, 'granisetron': 972, 'teicoplanin': 970, 'temazepam': 970, 'cesium': 962, 'levocabastine': 960, 'nadolol': 960, 'gamma-globulin': 959, 'hammer': 958, 'procaine': 956, 'pamidronate': 954, 'perindopril': 949, 'desmopressin': 943, 'proglumide': 943, 'albendazole': 940, 'dan': 935, 'zidovudine': 933, 'penbutolol': 928, 'praziquantel': 928, 'econazole': 927, 'terconazole': 927, 'gentamycin': 923, 'fenofibrate': 919, 'benoxaprofen': 918, 'fulvestrant': 918, 'azacitidine': 907, 'decongestant': 898, 'cisatracurium': 894, 'flucloxacillin': 891, 'daunomycin': 890, 'molsidomine': 885, 'treosulfan': 882, 'bivalirudin': 880, 'moxifloxacin': 862, 'gadolinium': 861, 'acetazolamide': 856, 'tide': 856, 'zoledronate': 852, 'caspofungin': 849, 'bromazepam': 813, 'phenazepam': 812, 'plerixafor': 810, 'tetracaine': 809, 'diflunisal': 805, 'benzalkonium': 804, 'valsartan': 804, 'buflomedil': 801, 'cyclofenil': 800, 'acitretin': 798, 'betaxolol': 793, 'quazepam': 793, 'fluorometholone': 792, 'practolol': 792, 'phenylbutazone': 785, 'stavudine': 784, 'labetalol': 782, 'lornoxicam': 782, 'aminocycline': 781, 'clopamide': 780, 'cryoglobulin': 780, 'milrinone': 770, 'cloxacillin': 767, 'lisinopril': 767, 'lacidipine': 762, 'acetorphan': 759, 'tripeptide': 757, 'ebastine': 753, 'roxatidine': 753, 'desflurane': 751, 'lovastatin': 743, 'loxoprofen': 733, 'bezafibrate': 730, 'dabigatran': 724, 'meloxicam': 722, 'disinfectant': 719, 'raltitrexed': 718, 'clenbuterol': 702, 'calprotectin': 700, 'acetonide': 690, 'cabazitaxel': 689, 'methicillin': 684, 'suxamethonium': 670, 'novantrone': 664, 'tazarotene': 662, 'pac': 647, 'clemastine': 645, 'pinaverium': 645, 'benazepril': 643, 'zanamivir': 642, 'prasugrel': 642, 'disodium': 636, 'amantadine': 634, 'zolmitriptan': 633, 'minocycline': 633, 'lignocaine': 626, 'fosinopril': 625, 'travoprost': 617, 'trimetoprim': 617, 'dextromethorphan': 611, 'trandolapril': 609, 'pazopanib': 609, 'palbociclib': 606, 'anti-cholesterol': 604, 'verteporfin': 604, 'golimumab': 599, 'mivacurium': 597, 'oxytocin': 597, 'clofarabine': 595, 'oxacillin': 594, 'remifentanil': 581, 'sulindac': 564, 'flutamide': 549, 'anakinra': 542, 'frovatriptan': 541, 'imatinib': 538, 'busulfan': 527, 'foradil': 526, 'methyldopa': 523, 'trabectedin': 519, 'terlipressin': 516, 'pasireotide': 513, 'eculizumab': 509, 'tenecteplase': 503, 'eprosartan': 500, 'medazepam': 499, 'posaconazole': 499, 'basiliximab': 495, 'celecoxib': 493, 'nitrofurantoin': 490, 'ofloxacin': 478, 'telithromycin': 476, 'tiotropium': 473, 'lincomycin': 469, 'degarelix': 468, 'imipenem': 468, 'zolpidem': 467, 'fosfomycin': 462, 'ciclosporin': 443, 'nepafenac': 436, 'idarubicin': 431, 'prucalopride': 427, 'darbepoetin': 423, 'cetrorelix': 420, 'belimumab': 419, 'abatacept': 414, 'vorinostat': 413, 'ruxolitinib': 412, 'lapatinib': 407, 'montelukast': 403, 'aprepitant': 402, 'axitinib': 402, 'efavirenz': 400, 'romiplostim': 398, 'ibandronate': 397, 'icatibant': 396, 'raloxifene': 395, 'mithramycin': 386, 'statin': 378, 'dronedarone': 370, 'pertuzumab': 368, 'pitavastatin': 368, 'palonosetron': 366, 'natalizumab': 355, 'eltrombopag': 349, 'aflibercept': 348, 'ivermectin': 343, 'omalizumab': 343, 'tocilizumab': 340, 'lycium': 332, 'apixaban': 324, 'estramustine': 314, 'esomeprazole': 313, 'tacrine': 308, 'benralizumab': 304, 'cytarabine': 301, 'ciclesonide': 300, 'clodronate': 283, 'carfentanil': 279, 'enzalutamide': 276, 'daptomycin': 276, 'olodaterol': 266, 'teduglutide': 261, 'alprostadil': 256, 'daclizumab': 256, 'roflumilast': 248, 'gramicidin': 247, 'perampanel': 235, 'arctium': 230, 'propylthiouracil': 229, 'tofacitinib': 229, 'ustekinumab': 218, 'aurantium': 202, 'tiacumicin': 201, 'palivizumab': 199, 'crizotinib': 199, 'nivolumab': 197, 'nimotuzumab': 191, 'saxagliptin': 187, 'fidaxomicin': 182, 'bumetanide': 175, 'brodalumab': 168, 'secukinumab': 168, 'fosaprepitant': 159, 'reslizumab': 154, 'rhubarb': 154, 'nilotinib': 149, 'syzygium': 149, 'edoxaban': 148, 'proguanil': 146, 'parecoxib': 145, 'afatinib': 143, 'antazoline': 143, 'trillium': 137, 'sarilumab': 136, 'amikacin': 135, 'linsitinib': 134, 'lercanidipine': 131, 'isavuconazole': 130, 'imunoglobulin': 129, 'sitagliptin': 125, 'formoterol': 124, 'cramer': 122, 'lenvatinib': 118, 'ramucirumab': 113, 'dasatinib': 112, 'ribociclib': 105, 'levofloxacin': 99, 'desvenlafaxine': 96, 'pegfilgrastim': 92, 'brexpiprazole': 89, 'piperacillin-tazobactam': 89, 'dinutuximab': 88, 'tinzaparin': 86, 'alogliptin': 77, 'donepezil': 75, 'eribulin': 74, 'ranimustine': 74, 'fondaparinux': 73, 'amsacrine': 61, 'ciprofloxacin': 60, 'articaine': 59, 'paliperidone': 49, 'emtricitabine': 43, 'frusemide': 43, 'alirocumab': 39, 'evolocumab': 39, 'pembrolizumab': 32, 'ipilimumab': 23, 'cabozantinib': 22, 'ixazomib': 14, 'duloxetine': 10, 'aripiprazole': 9, 'clomipramine': 8})\n"
     ]
    }
   ],
   "source": [
    "print(total_drug_names_kicked_out)"
   ]
  },
  {
   "cell_type": "code",
   "execution_count": 7,
   "metadata": {},
   "outputs": [
    {
     "name": "stdout",
     "output_type": "stream",
     "text": [
      "Counter({'surgery': 116892, 'hypertension': 73715, 'mass': 60131, 'breast cancer': 53965, 'epinephrine': 50204, 'renin': 46176, 'cardiac arrest': 38348, 'chemotherapy': 37993, 'infarction': 29911, 'infection': 28482, 'cardiac output': 28320, 'blood pressure': 27621, 'pregnancy': 27563, 'myocardial infarction': 26863, 'arthritis': 26395, 'death': 24545, 'asthma': 23861, 'cardiomyopathy': 23746, 'rheumatoid arthritis': 23155, 'lipids': 22834, 'depression': 20731, 'schizophrenia': 19995, 'pain': 19790, 'stress': 19001, 'injury': 18937, 'cardiac death': 18750, 'vitamin d': 18739, 'ulcer': 18342, 'ubiquinone': 17680, 'weight': 17658, 'renal failure': 17479, 'lymphoma': 15798, 'colorectal cancer': 15628, 'gastric cancer': 15444, 'essential hypertension': 15433, 'sudden cardiac death': 14920, 'basal cell carcinoma': 14917, 'acute myocardial infarction': 14208, 'thrombosis': 13970, 'dependence': 13537, 'duodenal ulcer': 13282, 'atrial fibrillation': 13267, 'diabetes mellitus': 13189, 'growth': 13036, 'prophylaxis': 12816, 'cardiac failure': 12704, 'delivery': 11864, 'hypertrophy': 11423, 'tuberculosis': 11258, 'coronary artery disease': 11237, 'fluoride': 11010, 'ovarian cancer': 10963, 'progesterone': 10728, 'radiotherapy': 10728, 'angina pectoris': 10655, 'infusion': 10550, 'injection': 10300, 'osteoporosis': 10156, 'shock': 10064, 'obesity': 9957, 'poisoning': 9875, 'hepatocellular carcinoma': 9158, 'pancreatitis': 9152, 'anaesthesia': 8908, 'fibrosis': 8801, 'heart rate': 8726, 'manganese': 8492, 'cardiac hypertrophy': 8368, 'magnetic resonance imaging': 8346, 'colitis': 8012, 'cardiac index': 7963, 'apolipoprotein b': 7942, 'ejection fraction': 7927, 'arrhythmia': 7867, 'prostate cancer': 7721, 'sepsis': 7711, 'hypoxia': 7513, 'ammonia': 7325, 'sarcoidosis': 7213, 'dehydroepiandrosterone': 7099, 'elderly': 7011, 'migraine': 6967, 'high density lipoprotein': 6941, 'amyloidosis': 6939, 'endocarditis': 6720, 'pco2': 6612, 'hyperplasia': 6541, 'energy': 6369, 'body mass index': 6367, 'investigation': 6361, 'inflammation': 6336, 'reperfusion injury': 6326, 'thrombocytopenia': 6300, 'platelet aggregation': 6295, 'ventricular fibrillation': 6282, 'pneumonia': 6205, 'acidosis': 6198, 'condition': 6157, 'obstruction': 6062, 'embolism': 6031, 'cardiopulmonary bypass': 5925, 'stenosis': 5854, 'cardiac tamponade': 5778, 'aneurysm': 5729, 'bladder cancer': 5625, 'apoptosis': 5613, 'troponin': 5583, 'adenocarcinoma': 5507, 'necrosis': 5345, 'fracture': 5344, 'cardiac amyloidosis': 5303, 'hyperparathyroidism': 5297, 'hepatitis': 5257, 'major depression': 5176, 'sinusitis': 5165, 'overdose': 5119, 'cardiac myxoma': 5095, 'diarrhoea': 5078, 'fall': 5036, 'cortisol': 4824, 'leukaemia': 4823, 'metastasis': 4709, 'sodium retention': 4703, 'hyperthermia': 4663, 'psoriasis': 4657, 'tachycardia': 4654, 'quality of life': 4649, 'bronchitis': 4617, 'menopause': 4586, 'pulmonary hypertension': 4575, 'multiple sclerosis': 4574, 'vomiting': 4548, 'macrophages': 4537, 'cystic fibrosis': 4486, 'troponin t': 4470, 'coronary artery bypass': 4469, 'dysplasia': 4417, 'ventricular tachycardia': 4408, 'osteoarthritis': 4335, 'dermatitis': 4301, 'sarcoma': 4284, 'clostridium difficile infection': 4239, 'brain natriuretic peptide': 4208, 'rhinitis': 4144, 'neuroblastoma': 4141, 'haemodialysis': 4077, 'splenectomy': 4058, 'thrombolysis': 3955, 'vitamin a': 3884, 'purpura': 3870, 'squamous cell carcinoma': 3859, 'bipolar disorder': 3844, 'sudden death': 3692, 'arteriosclerosis': 3678, 'myasthenia gravis': 3674, 'hypothermia': 3657, 'resuscitation': 3630, 'syncope': 3583, 'troponin i': 3546, 'glucose tolerance': 3509, 'blood glucose': 3500, 'infant': 3496, 'meningitis': 3450, 'regurgitation': 3449, 'otitis media': 3390, 'thrombocytopenic purpura': 3383, 'dementia': 3307, 'endoscopy': 3262, 'influenza': 3240, 'systemic lupus erythematosus': 3145, 'venous thrombosis': 3135, 'glaucoma': 3119, 'chest pain': 3117, 'osteosarcoma': 3103, 'lipase': 3064, 'hormone therapy': 3030, 'leprosy': 2989, 'hypotension': 2919, 'blood cholesterol': 2918, 'hypersensitivity': 2903, 'saliva': 2902, 'neuralgia': 2896, 'ascariasis': 2896, 'malignant melanoma': 2894, 'fibrinolysis': 2876, 'heparin-induced thrombocytopenia': 2868, 'deformity': 2859, 'seizure': 2857, 'urethritis': 2839, 'barium meal': 2800, 'bradycardia': 2800, 'caesarean section': 2792, 'polyneuropathy': 2783, 'hyperlipidaemia': 2781, 'accident': 2760, 'low density lipoprotein': 2754, 'ventricular septal defect': 2729, 'hepatitis b': 2726, 'po2': 2725, 'biopsy': 2703, 'trabeculectomy': 2697, 'eczema': 2696, 'nausea': 2690, 'insomnia': 2688, 'septic shock': 2669, 'vitamin b6': 2661, 'pulmonary toxicity': 2659, 'ascites': 2648, 'osteomyelitis': 2637, 'neutropenia': 2614, 'drug interaction': 2610, 'laparotomy': 2609, 'discharge': 2607, 'haemorrhage': 2602, 'left ventricular dysfunction': 2601, 'oestradiol': 2586, 'hydrocephalus': 2568, 'vasoconstriction': 2539, 'angiotensin converting enzyme': 2539, 'irritable bowel syndrome': 2527, 'perforation': 2523, 'cell death': 2518, 'ventricular dysfunction': 2515, 'headache': 2511, 'vitamin b1': 2505, 'colonoscopy': 2504, 'b-cell lymphoma': 2504, 'hypothyroidism': 2502, 'asphyxia': 2488, 'peritonitis': 2477, 'chorea': 2470, 'retinitis': 2469, 'peptic ulcer': 2459, 'sedation': 2446, 'respiratory failure': 2433, 'insulin resistance': 2421, 'epilepsy': 2403, 'vital capacity': 2384, 'acute coronary syndrome': 2370, 'craniotomy': 2365, 'nasal obstruction': 2364, 'coronary artery surgery': 2363, 'haemoglobin': 2351, 'inflammatory bowel disease': 2348, 'nasal polyps': 2339, 'carditis': 2333, 'gastric ulcer': 2330, 'fistula': 2330, 'intermittent claudication': 2318, 'epistaxis': 2313, 'myocarditis': 2299, 'tonsillectomy': 2299, 'porphyria': 2284, 'nephrolithiasis': 2284, 'ectopic pregnancy': 2284, 'acromegaly': 2283, 'glucocorticoids': 2259, 'angiosarcoma': 2254, 'dissociation': 2241, 'ankylosing spondylitis': 2233, 'neonatal respiratory failure': 2202, 'endometrial cancer': 2200, 'keratitis': 2193, 'chronic kidney disease': 2192, 'cardiotoxicity': 2184, 'hepatitis c': 2184, 'transplant': 2167, 'adjuvant therapy': 2154, 'hypertrophic cardiomyopathy': 2153, 'encephalopathy': 2148, 'status epilepticus': 2138, 'parkinsonism': 2121, 'benign prostatic hyperplasia': 2120, 'nephropathy': 2108, 'cyst': 2103, 'transferrin': 2101, 'diastolic dysfunction': 2101, 'syphilis': 2091, 'angioplasty': 2086, 'ceruloplasmin': 2059, 'pulmonary embolism': 2052, 'fasting': 2036, 'general anaesthesia': 2007, 'erectile dysfunction': 2000, 'heart rate variability': 1982, 'androgens': 1973, 'congestive cardiomyopathy': 1959, 'intraocular pressure': 1956, 'immunosuppression': 1954, 'thyroglobulin': 1952, 'tension': 1947, 'hormone replacement therapy': 1946, 'hysterectomy': 1925, 'cholecystitis': 1922, 'deafness': 1919, 'pericarditis': 1912, 'thyroxine': 1903, 'uveitis': 1903, 'electrocardiogram': 1897, 'immunoglobulins': 1891, 'arthropathy': 1889, 'arterial occlusive disease': 1884, 'extubation': 1880, 'intensive care': 1880, 'pneumonitis': 1879, 'cholecystectomy': 1878, 'carnitine': 1869, 'mania': 1869, 'adenoid cystic carcinoma': 1866, 'hospitalisation': 1862, 'anxiety': 1861, 'hernia': 1854, 'left ventricular hypertrophy': 1850, 'pulmonary fibrosis': 1844, 'phobia': 1841, 'malignant ascites': 1836, 'respiratory arrest': 1835, 'immunodeficiency': 1834, 'swelling': 1824, 'polyp': 1804, 'gastrointestinal haemorrhage': 1802, 'upper gastrointestinal haemorrhage': 1802, 'atrial septal defect': 1782, 'plasma cells': 1772, 'age-related macular degeneration': 1765, 'macular degeneration': 1765, 'flushing': 1759, 'hyperoxia': 1752, 'dehydration': 1746, 'scleroderma': 1745, 'oedema': 1741, 'intracranial aneurysm': 1728, 'coronary angioplasty': 1728, 'urine calcium': 1727, 'beta globulin': 1720, 'supraventricular tachycardia': 1715, 'hypokalaemia': 1715, 'fibrin': 1715, 'spondylitis': 1713, 'venous pressure': 1712, 'enzyme inhibition': 1711, 'cerebral infarction': 1711, 'lyme disease': 1701, 'chondrocalcinosis': 1695, 'glioma': 1695, 'acne': 1694, 'pancreatectomy': 1689, 'vasospasm': 1682, 'magnesium deficiency': 1681, 'ataxia': 1665, 'rectal cancer': 1660, 'transfusion': 1656, 'atrophy': 1650, 'neurotoxicity': 1642, 'electroconvulsive therapy': 1630, 'neuromuscular block': 1624, 'knee arthroplasty': 1621, 'muscular dystrophy': 1613, 'polyarthritis': 1603, 'deep vein thrombosis': 1601, 'glomerulonephritis': 1600, 'jaundice': 1585, 'pouchitis': 1583, 'chronic hepatitis b': 1575, 'pyoderma gangrenosum': 1574, 'hairy cell leukaemia': 1566, 'rheumatic fever': 1562, 'prolapse': 1562, 'fibromyalgia': 1545, 'hip arthroplasty': 1537, 'gastrectomy': 1529, 'dermatomyositis': 1518, 'menopausal symptoms': 1517, 'cataract': 1516, 'granuloma': 1510, 'hip fracture': 1506, 'beta 2 microglobulin': 1502, 'anxiety disorder': 1498, 'bed rest': 1497, 'endocrine ophthalmopathy': 1497, 'febrile neutropenia': 1492, 'pneumonectomy': 1488, 'metabolic acidosis': 1488, 'cardiogenic shock': 1487, 'cluster headache': 1483, 'antibiotic therapy': 1467, 'hellp syndrome': 1463, 'dialysis': 1463, 'ischaemic stroke': 1452, 'alcohol abuse': 1452, 'oxygen saturation': 1446, 'extrasystoles': 1446, 'malaria': 1440, 'dystonia': 1438, 'arteritis': 1430, 'hypercalciuria': 1427, 'anaemia': 1427, 'aplastic anaemia': 1427, 'aggression': 1422, 'cardiac monitoring': 1422, 'insulin-like growth factor': 1417, 'encephalocele': 1412, 'pneumoperitoneum': 1410, 'waist circumference': 1409, 'lactic acidosis': 1404, 'skin necrosis': 1396, 'retinopathy': 1381, 'hyperinsulinaemia': 1369, 'mean arterial pressure': 1362, 'cholelithiasis': 1356, 'brugada syndrome': 1346, 'synovial sarcoma': 1344, 'haemostasis': 1339, 'urticaria': 1331, 'alcoholic liver disease': 1327, 'hypomagnesaemia': 1324, 'microcephaly': 1314, 'c-reactive protein': 1305, 'encephalomyelitis': 1297, 'platelet count': 1295, 'mitral valve replacement': 1293, 'glomerular filtration rate': 1280, 'onychomycosis': 1274, 'ischaemia': 1271, 'renal replacement therapy': 1270, 'systolic hypertension': 1265, 'enzyme activity': 1264, 'hirsutism': 1257, 'ventricular hypertrophy': 1257, 'pemphigus': 1254, 'enterocolitis': 1247, 'priapism': 1232, 'glioblastoma': 1220, 'brain injury': 1215, 'mechanical ventilation': 1209, 'percutaneous coronary intervention': 1206, 'lipodystrophy': 1205, 'aortic valve replacement': 1204, 'psychotherapy': 1204, 'dyskinesia': 1200, 'tardive dyskinesia': 1200, 'optic neuropathy': 1199, 'carbon dioxide': 1196, 'cough': 1186, 'thyroid hormones': 1180, 'anal atresia': 1170, 'dyspnoea': 1159, 'thyroid cancer': 1152, 'atherectomy': 1148, 'delirium tremens': 1142, 'acquired immunodeficiency syndrome': 1138, 'bronchiolitis': 1133, 'colon cancer': 1130, 'hyponatraemia': 1110, 'vasculitis': 1087, 'clostridium difficile colitis': 1085, 'colectomy': 1069, 'anorexia nervosa': 1069, 'cardiac cirrhosis': 1066, 'liver injury': 1065, 'osteomalacia': 1061, 'aortic stenosis': 1059, 'renal cell carcinoma': 1052, 'dyslipidaemia': 1050, 'cardiac murmur': 1044, 'gingivitis': 1042, 'androgen deficiency': 1041, 'constipation': 1035, 'erythema': 1030, 'myelofibrosis': 1029, 'withdrawal syndrome': 1021, 'tinnitus': 1020, 'abortion': 1019, 'epiglottitis': 1014, 'conjunctivitis': 1009, 'nephrectomy': 1009, 'phagocytosis': 1008, 'leukoencephalopathy': 1007, 'anaphylactoid reaction': 1004, 'hip surgery': 1003, 'urinary tract infection': 997, 'pulmonary sarcoidosis': 996, 'mesothelioma': 996, 'autopsy': 994, 'atrioventricular block': 993, 'cardiac asthma': 989, 'plastic surgery': 988, 'hepatocellular injury': 987, 'enterobiasis': 985, 'giardiasis': 985, 'hookworm infection': 985, 'myelodysplastic syndrome': 985, 'cystoscopy': 984, 'anuria': 982, 'primary hyperaldosteronism': 982, 'left ventricular failure': 976, 'phlebitis': 976, 'ventricular failure': 976, 'agranulocytosis': 973, 'teratogenicity': 973, 'moyamoya disease': 972, 'sneezing': 972, 'multiple injuries': 970, 'transitional cell carcinoma': 970, 'hepatic fibrosis': 969, 'hiv infection': 969, 'plasmapheresis': 969, 'stomatitis': 969, 'viral diarrhoea': 968, 'dental plaque': 966, 'obsessive-compulsive disorder': 965, 'capillary permeability': 964, 'exercise tolerance': 964, 'epididymitis': 963, 'amyotrophy': 963, 'amnesia': 960, 'epithelioid sarcoma': 960, 'leiomyosarcoma': 960, '5-hydroxyindolacetic acid': 959, 'neurofibromatosis': 958, 'non-high-density lipoprotein cholesterol': 957, 'mycobacterium kansasii infection': 956, 'porcelain gallbladder': 956, 'parenteral nutrition': 956, 'coagulopathy': 955, 'detoxification': 955, 'autonomic neuropathy': 954, 'cardiac autonomic neuropathy': 954, 'graft infection': 954, 'neurosarcoidosis': 954, 'rhabdomyolysis': 954, 'infection susceptibility': 953, 'intracranial pressure': 953, 'dandruff': 951, 'forced expiratory volume': 950, 'neurogenic bladder': 950, 'radius fracture': 950, 'vascular anastomosis': 948, 'pleural mesothelioma': 946, 'alcohol withdrawal syndrome': 945, 'neck surgery': 945, 'osteopenia': 945, 'pemphigoid': 944, 'coronary artery aneurysm': 943, 'cryptococcosis': 943, 'hypercalcaemia': 941, 'systemic scleroderma': 941, 'acute leukaemia': 940, 'nodule': 940, 'herpes zoster': 940, 'mitral valve prolapse': 939, 'central venous pressure': 939, 'discomfort': 939, 'hypotonia': 938, 'lumbar spinal stenosis': 938, 'sexually transmitted disease': 938, 'spinal stenosis': 938, 'biliary cirrhosis': 937, 'cerebellar ataxia': 937, 'torsade de pointes': 937, 'genital herpes': 935, 'cholera': 934, 'thoracotomy': 932, 'germ cell cancer': 931, 'transferrin saturation': 931, 'chronic hepatitis': 928, 'coagulation time': 925, 'duchenne muscular dystrophy': 924, 'hypersensitivity pneumonitis': 924, 'pancreatic fistula': 920, 'achlorhydria': 919, 'ocular hypertension': 919, 'muscular weakness': 918, 'relapsing-remitting multiple sclerosis': 918, 'weight control': 916, 'bifascicular block': 913, 'precocious puberty': 912, 'leiomyoma': 912, 'carcinoma in situ': 912, 'stress ulcer': 911, 'endocardial fibroelastosis': 909, 'abnormal behaviour': 908, 'haemolysis': 907, 'cytomegalovirus infection': 903, 'cerebral palsy': 900, 'nephrotic syndrome': 900, 'concomitant disease': 894, 'carcinoid syndrome': 892, 'duodenal obstruction': 891, 'pyoderma': 891, 'thrombophlebitis': 891, 'polydipsia': 888, 'corneal graft rejection': 886, 'hyperprolactinaemia': 885, 'bleeding time': 883, 'plethysmography': 883, 'epicondylitis': 880, 'synovitis': 880, 'endothelial dysfunction': 880, 'sluggishness': 871, 'electroencephalogram': 871, 'disseminated intravascular coagulation': 868, 'dyspepsia': 858, 'cardiac dysfunction': 843, 'endometriosis': 836, 'scoliosis': 833, 'rosacea': 832, 'spinal cord injury': 824, 'life support': 822, 'antidepressant therapy': 816, 'hepatitis a': 813, 'local anaesthesia': 812, 'amylase': 811, 'testis cancer': 810, 'prealbumin': 808, 'dysfunctional uterine bleeding': 807, 'prostatectomy': 806, 'arterial spasm': 805, 'endotracheal intubation': 805, 'amoebiasis': 803, 'blepharospasm': 803, 'hemiparesis': 803, 'sinus rhythm': 803, 'gonococcal infection': 802, 'volvulus': 801, 'erysipelas': 800, 'subarachnoid haemorrhage': 800, 'ototoxicity': 800, 'stasis dermatitis': 799, 'thyroiditis': 798, 'rickets': 796, 'appendicitis': 795, 'laryngeal cancer': 795, 'sinus bradycardia': 789, 'occult blood': 788, 'trichomoniasis': 784, 'drug hypersensitivity': 782, 'rash': 782, 'gamma-glutamyltransferase': 782, 'macular oedema': 782, 'myopathy': 782, 'protein deficiency': 780, 'cancer pain': 777, 'joint arthroplasty': 775, 'mouth breathing': 775, 'lymphoedema': 774, 'rhinoplasty': 773, 'anoxia': 772, 'cerebellar atrophy': 772, 'angiocardiogram': 770, 'contusion': 769, 'arterial insufficiency': 768, 'polymyalgia rheumatica': 768, 'small cell carcinoma': 767, 'brain death': 764, 'cholangitis': 764, 'dacryocystorhinostomy': 763, 'supportive care': 761, 'proctitis': 760, 'staphylococcal osteomyelitis': 760, 'bone marrow transplant': 759, 'cancer surgery': 759, 'food poisoning': 759, 'polymyositis': 759, 'hypoventilation': 758, 'arthroscopy': 757, 'eclampsia': 757, 'seminoma': 754, 'mental impairment': 753, 'panic disorder': 753, 'cavernous sinus thrombosis': 751, 'narcolepsy': 751, 'neoplasm': 748, 'suicidal ideation': 748, 'stereotypy': 747, 'nephrogenic systemic fibrosis': 747, 'diphtheria': 746, 'abscess': 745, 'adenomatous polyposis coli': 743, 'tanning': 743, 'aneurysm repair': 742, 'circulatory collapse': 742, 'bulimia nervosa': 741, 'cytomegalovirus colitis': 741, 'motor neurone disease': 740, 'paralysis': 739, 'osteotomy': 738, 'staphylococcal infection': 738, 'hypophosphatasia': 737, 'neutropenic sepsis': 737, 'cachexia': 735, 'creutzfeldt-jakob disease': 735, 'gliosis': 735, 'muscle rupture': 735, 'tension headache': 735, 'polyuria': 734, 'laparoscopy': 733, 'cerebral toxoplasmosis': 728, 'effusion': 728, 'malignant pleural effusion': 728, 'pleural effusion': 728, 'somnolence': 728, 'toxoplasmosis': 728, 'aspiration': 726, 'plasmacytoma': 726, 'skin cancer': 726, 'gastroenteritis': 724, 'carcinoembryonic antigen': 722, 'congenital diaphragmatic hernia': 722, 'diaphragmatic hernia': 722, 'pleurisy': 722, 'pulmonary arterial hypertension': 718, 'substance use': 717, 'punctate keratitis': 715, 'schizoaffective disorder': 714, 'aortic aneurysm': 714, 'mastitis': 713, 'acute sinusitis': 712, 'pyogenic granuloma': 710, 'tissue injury': 710, 'cyanosis': 709, 'intestinal obstruction': 709, 'nasal flaring': 709, 'diaphragmatic paralysis': 708, 'glioblastoma multiforme': 708, 'intestinal metaplasia': 708, 'pharyngotonsillitis': 708, 'chondrosarcoma': 707, 'bone pain': 706, 'blood magnesium': 704, 'craniopharyngioma': 702, 'spina bifida': 701, 'blepharitis': 693, 'appendicectomy': 691, 'cardiac massage': 690, 'massage': 690, 'endometrial hyperplasia': 688, 'gangrene': 688, 'gas gangrene': 688, 'dermoid cyst': 685, 'angiopathy': 681, 'diabetes insipidus': 678, 'reticulocyte count': 678, 'hyperreflexia': 677, 'lithotripsy': 673, 'oesophagitis': 672, 'pancreas divisum': 669, 'muscle mass': 669, 'adrenal insufficiency': 668, 'arterial thrombosis': 668, 'trichotillomania': 667, 'enuresis': 665, 'life expectancy': 664, 'sensitisation': 662, 'hypercholesterolaemia': 661, 'pre-eclampsia': 661, 'pelvic mass': 658, 'bone formation': 657, 'coeliac disease': 657, 'toxic shock syndrome': 657, 'protein c': 655, 'rhabdomyosarcoma': 653, 'transurethral prostatectomy': 653, 'laparoscopic surgery': 653, 'enteral nutrition': 652, 'renal injury': 649, 'body surface area': 648, 'lithiasis': 647, 'hyperkeratosis': 645, 'mastectomy': 643, 'diabetic amyotrophy': 641, 'myoclonus': 641, 'irritability': 639, 'organ failure': 638, 'chronic sinusitis': 637, 'lordosis': 637, 'sinus pain': 637, 'prothrombin time': 636, 'botulism': 634, 'anogenital warts': 633, 'drug resistance': 633, 'chiropractic': 632, 'hormone-refractory prostate cancer': 630, 'pulmonary congestion': 629, 'osteogenesis imperfecta': 624, 'substance abuse': 624, 'retinal vein occlusion': 624, 'prolonged pregnancy': 622, 'erythema nodosum': 621, 'neuroma': 621, 'fear': 620, 'ligament rupture': 620, 'sciatica': 618, 'peritoneal dialysis': 618, 'pericardial effusion': 617, 'venipuncture': 615, 'metastatic uterine cancer': 613, 'uterine cancer': 613, 'pyruvate kinase': 611, 'apnoea': 609, 'pulmonary tuberculosis': 607, 'calcium phosphate product': 601, 'retroperitoneal fibrosis': 600, 'gouty arthritis': 599, 'hepatic congestion': 599, 'generalised anxiety disorder': 597, 'myofascial pain syndrome': 597, 'steatohepatitis': 597, 'pneumocystis jirovecii pneumonia': 596, 'gastrostomy': 595, 'ventricular tachyarrhythmia': 594, 'left atrial enlargement': 593, 'cardioversion': 587, 'pseudomembranous colitis': 541, 'adenomyosis': 536, 'phaeochromocytoma': 535, 'elective procedure': 534, 'long qt syndrome': 534, 'transplant rejection': 528, 'choroidal neovascularisation': 527, 'neovascularisation': 527, 'hypospadias': 525, 'hepatic ischaemia': 522, 'non-cardiac chest pain': 521, 'growth hormone deficiency': 518, 'hypogonadism': 518, 'secondary hypogonadism': 518, 'secondary hypothyroidism': 518, 'flow cytometry': 515, 'polychondritis': 514, 'vitamin d deficiency': 513, 'labyrinthitis': 510, 'blood sodium': 508, 'hernia repair': 504, 'meningioma': 504, 'optic atrophy': 504, 'neutrophil count': 503, 'cervical polyp': 499, 'pericardiotomy': 498, 'cholangiocarcinoma': 498, 'venous oxygen saturation': 494, 'aortic aneurysm rupture': 493, 'alpha-2 macroglobulin': 492, 'forced expiratory flow': 491, 'pneumothorax': 491, 'portal vein thrombosis': 485, 'acute respiratory failure': 484, 'ocular rosacea': 482, 'respiratory acidosis': 481, 'fluid retention': 479, 'lymphoproliferative disorder': 473, 'hepatic failure': 472, 'diabetic foot': 471, 'supraventricular tachyarrhythmia': 467, 'tachyarrhythmia': 467, 'bursitis': 466, 'lupus nephritis': 466, 'nephritis': 466, 'acute kidney injury': 466, 'aplasia': 463, 'progressive multifocal leukoencephalopathy': 460, 'systolic dysfunction': 458, 'adverse drug reaction': 456, 'spondylolisthesis': 455, 'tinea pedis': 454, 'glucagonoma': 452, 'pertussis': 448, 'phlebotomy': 445, 'hyperthyroidism': 444, 'oesophageal dilatation': 444, 'fatigue': 443, 'dry mouth': 435, 'plasma cell myeloma': 431, 'aura': 430, 'ganglioglioma': 430, 'scar': 428, 'milk allergy': 426, 'therapeutic response': 426, 'liver transplant': 426, 'starvation': 425, 'myopia': 424, 'neonatal lupus erythematosus': 424, 'bone loss': 424, 'cor pulmonale': 421, 'monoparesis': 421, 'hot flush': 420, 'nasal septum perforation': 420, 'pharyngitis': 420, 'dysmenorrhoea': 419, 'alcoholism': 418, 'gout': 416, 'chondroma': 415, 'histology': 414, 'bile duct cancer': 413, 'lichen planus': 412, 'oral lichen planus': 412, 'auscultation': 411, 'dermatofibrosarcoma protuberans': 409, 'polycythaemia vera': 407, 'globulins': 402, 'chronic allograft nephropathy': 401, 'otitis externa': 400, 'ruptured cerebral aneurysm': 400, 'periodontitis': 400, 'burning mouth syndrome': 396, 'viral infection': 395, 'prolonged labour': 393, 'palliative care': 393, 'carotid endarterectomy': 391, 'memory impairment': 389, 'bone graft': 388, 'listeriosis': 387, 'nasal septum deviation': 385, 'fibroma': 377, 'cutaneous lupus erythematosus': 376, 'ejaculation': 375, 'hyperhidrosis': 372, 'extracorporeal circulation': 368, 'vitamin b12': 367, 'abdominal pain': 358, 'granuloma annulare': 356, 'autism spectrum disorder': 355, 'bronchoscopy': 355, 'angle closure glaucoma': 352, 'vitiligo': 352, 'spinal fusion surgery': 350, 'foreign body': 350, 'bicuspid aortic valve': 347, 'bone density': 342, 'fluid intake': 338, 'radical prostatectomy': 338, 'lymphadenectomy': 333, 'cerebral artery occlusion': 333, 'chylothorax': 323, 'neuritis': 322, 'retinal artery occlusion': 318, 'haemangioma': 317, 'food intolerance': 315, 'elective surgery': 314, 'non-alcoholic steatohepatitis': 310, 'nasal discomfort': 309, 'intestinal pseudo-obstruction': 307, 'cell marker': 306, 'eating disorder': 304, 'endocrine disorder': 301, 'sexual activity': 300, 'insulinoma': 297, 'serum ferritin': 297, 'artery dissection': 295, 'coronary artery dissection': 295, 'drug-induced liver injury': 295, 'dysphagia': 294, 'familial mediterranean fever': 291, 'purulent pericarditis': 290, 'pruritus': 287, 'bile duct stenosis': 286, 'acute lung injury': 284, 'hepatoblastoma': 284, 'endometrial adenocarcinoma': 281, 'lung adenocarcinoma': 280, 'osteonecrosis': 280, 'ependymoma': 278, 'focal segmental glomerulosclerosis': 278, 'glomerulosclerosis': 278, 'labour pain': 277, 'bacterial infection': 272, 'aspirin-exacerbated respiratory disease': 270, 'granulomatosis with polyangiitis': 268, 'myomectomy': 268, 'performance status': 263, 'salpingectomy': 256, 'nystagmus': 254, 'sternotomy': 250, 'incontinence': 249, 'bacterial vaginosis': 248, 'cubital tunnel syndrome': 248, 'myocardial fibrosis': 247, 'stab wound': 246, 'wound': 246, 'nephrogenic diabetes insipidus': 245, 'pain management': 245, 'adrenalectomy': 243, 'coronary artery stenosis': 238, 'diverticulitis': 237, 'delayed puberty': 236, 'mood': 235, 'drowning': 230, 'myalgia': 230, 'disability': 228, 'alanine aminotransferase': 226, 'trigeminal neuralgia': 222, 'carpal tunnel syndrome': 215, 'vascular malformation': 214, 'disinhibition': 213, 'intestinal anastomosis': 212, 'osteoma': 212, 'blood urea': 211, 'cardiac fibrillation': 211, 'pneumocystis jirovecii infection': 207, 'borderline personality disorder': 202, 'personality disorder': 202, 'cystitis': 201, 'human chorionic gonadotropin': 196, 'genetic polymorphism': 186, 'gestational diabetes': 184, 'blindness': 183, 'organ transplant': 181, 'post-traumatic stress disorder': 181, 'joint injection': 179, 'stem cell transplant': 179, 'antiphospholipid syndrome': 177, 'autoimmune disorder': 177, 'blister': 174, 'amyotrophic lateral sclerosis': 172, 'cardiac ablation': 172, 'thrombotic microangiopathy': 171, 'visual acuity': 170, 'asymptomatic bacteriuria': 168, 'pericardial disease': 166, 'varicella': 163, 'cerebral amyloid angiopathy': 161, 'suicide attempt': 161, 'uterine leiomyoma': 161, \"parkinson's disease\": 160, 'rotator cuff repair': 160, 'proteinuria': 155, 'trabeculoplasty': 155, 'eosinophil count': 152, 'choanal atresia': 151, 'diabetic nephropathy': 151, 'myocardial strain': 149, 'neurosyphilis': 149, 'idiopathic pulmonary fibrosis': 149, 'carbohydrate antigen 125': 148, \"ewing's sarcoma\": 147, 'gastrointestinal surgery': 147, 'parathyroidectomy': 144, 'diabetic retinopathy': 141, 'emphysema': 141, 'hepatorenal syndrome': 140, 'viral load': 138, 'adhesion': 137, 'radical cystectomy': 137, 'chalazion': 135, 'cytoreductive surgery': 135, 'hordeolum': 135, 'heart transplant': 134, 'agitation': 131, 'mobility': 130, 'coagulation factor': 129, 'type i hypersensitivity': 129, 'soft tissue mass': 126, 'nerve injury': 124, 'peripheral nerve injury': 124, 'haematological malignancy': 118, 'neuroendocrine tumour': 106, 'fev1/fvc ratio': 105, 'tic': 103, 'right ventricular failure': 100, 'renal impairment': 99, 'forced vital capacity': 98, 'medulloblastoma': 98, 'nasal cavity mass': 98, 'right ventricular dysfunction': 93, 'overweight': 92, 'retinopathy of prematurity': 87, 'hepatomegaly': 86, 'cytopenia': 84, 'dermatosis': 81, 'rheumatoid factor': 81, 'vulvovaginal candidiasis': 77, 'cardiac iron overload': 74, 'iron overload': 74, 'stevens-johnson syndrome': 72, 'mucosal atrophy': 71, 'bundle branch block': 70, 'malocclusion': 69, 'chronic lymphocytic leukaemia': 66, \"crohn's disease\": 66, 'lymphocytic leukaemia': 66, 'tubulointerstitial nephritis': 65, 'interferon gamma': 64, 'flatulence': 63, 'telangiectasia': 63, 'iga nephropathy': 62, 'arteriovenous fistula': 61, 'interstitial lung disease': 61, 'hypertensive crisis': 57, 'skin disorder': 57, 'crying': 56, 'underweight': 54, 'metastatic gastric cancer': 53, 'tumour necrosis': 53, 'gastrointestinal inflammation': 50, 'body temperature': 48, 'breast feeding': 43, 'infestation': 34, 'oropharyngeal cancer': 32, 'aortic valve stenosis': 27, 'haematoma': 21, 'anticoagulant therapy': 16, 'left atrial dilatation': 16, 'drug abuse': 14, 'thymoma': 12, 'rectal neoplasm': 11, 'aspartate aminotransferase': 9, 'ventricular drainage': 7})\n"
     ]
    }
   ],
   "source": [
    "print(total_reactions_kicked_out)"
   ]
  }
 ],
 "metadata": {
  "kernelspec": {
   "display_name": "Python 3",
   "language": "python",
   "name": "python3"
  },
  "language_info": {
   "codemirror_mode": {
    "name": "ipython",
    "version": 3
   },
   "file_extension": ".py",
   "mimetype": "text/x-python",
   "name": "python",
   "nbconvert_exporter": "python",
   "pygments_lexer": "ipython3",
   "version": "3.8.5"
  }
 },
 "nbformat": 4,
 "nbformat_minor": 4
}
