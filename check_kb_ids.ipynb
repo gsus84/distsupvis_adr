{
 "cells": [
  {
   "cell_type": "code",
   "execution_count": null,
   "metadata": {},
   "outputs": [],
   "source": []
  },
  {
   "cell_type": "code",
   "execution_count": 1,
   "metadata": {},
   "outputs": [],
   "source": [
    "def cvp_extracted_data_gen(filename: str):\n",
    "    with open(filename, \"r\") as f:\n",
    "        for line in f:\n",
    "            yield line.split(sep=\"$\")"
   ]
  },
  {
   "cell_type": "code",
   "execution_count": 2,
   "metadata": {},
   "outputs": [],
   "source": [
    "reactions_txt_react_ids = set()\n",
    "reactions_txt_adv_react_reps = set()\n",
    "\n",
    "for line in cvp_extracted_data_gen(\"data/cvponline_extract_20191231/reactions.txt\"):\n",
    "    react_id, adv_react_rep = line[:2]\n",
    "    reactions_txt_react_ids.add(react_id)\n",
    "    reactions_txt_adv_react_reps.add(adv_react_rep)\n",
    "    "
   ]
  },
  {
   "cell_type": "code",
   "execution_count": 5,
   "metadata": {},
   "outputs": [],
   "source": [
    "reports_txt_report_ids = set()\n",
    "reports_txt_report_nos = set()\n",
    "for line in cvp_extracted_data_gen(\"data/cvponline_extract_20191231/reports.txt\"):\n",
    "    report_id, report_no = line[:2]\n",
    "    reports_txt_report_ids.add(report_id)\n",
    "    reports_txt_report_nos.add(report_no)"
   ]
  },
  {
   "cell_type": "code",
   "execution_count": 6,
   "metadata": {},
   "outputs": [],
   "source": [
    "report_drug_txt_rep_drug_ids = set()\n",
    "report_drug_txt_report_ids = set()\n",
    "for line in cvp_extracted_data_gen(\"data/cvponline_extract_20191231/report_drug.txt\"):\n",
    "    rep_drug_id, report_id = line[:2]\n",
    "    report_drug_txt_rep_drug_ids.add(rep_drug_id)\n",
    "    report_drug_txt_report_ids.add(report_id)"
   ]
  },
  {
   "cell_type": "code",
   "execution_count": 7,
   "metadata": {},
   "outputs": [
    {
     "name": "stdout",
     "output_type": "stream",
     "text": [
      "reactions_txt_react_ids (length): 2724332\n",
      "reactions_txt_adv_react_reps (length): 776308\n"
     ]
    }
   ],
   "source": [
    "print(\"reactions_txt_react_ids (length):\", len(reactions_txt_react_ids))\n",
    "print(\"reactions_txt_adv_react_reps (length):\", len(reactions_txt_adv_react_reps))"
   ]
  },
  {
   "cell_type": "code",
   "execution_count": 8,
   "metadata": {},
   "outputs": [
    {
     "name": "stdout",
     "output_type": "stream",
     "text": [
      "reports_txt_report_ids (length): 776904\n",
      "reports_txt_report_nos (length): 776904\n"
     ]
    }
   ],
   "source": [
    "print(\"reports_txt_report_ids (length):\", len(reports_txt_report_ids))\n",
    "print(\"reports_txt_report_nos (length):\", len(reports_txt_report_nos))"
   ]
  },
  {
   "cell_type": "code",
   "execution_count": 9,
   "metadata": {},
   "outputs": [
    {
     "name": "stdout",
     "output_type": "stream",
     "text": [
      "report_drug_txt_rep_drug_ids (length): 2989895\n",
      "report_drug_txt_report_ids (length): 776833\n"
     ]
    }
   ],
   "source": [
    "print(\"report_drug_txt_rep_drug_ids (length):\", len(report_drug_txt_rep_drug_ids))\n",
    "print(\"report_drug_txt_report_ids (length):\", len(report_drug_txt_report_ids))"
   ]
  },
  {
   "cell_type": "code",
   "execution_count": 15,
   "metadata": {},
   "outputs": [
    {
     "name": "stdout",
     "output_type": "stream",
     "text": [
      "intersection of report_ids (reports.txt) and adversed_reactions_report – report_id (reactions.txt)\n",
      "776308\n"
     ]
    }
   ],
   "source": [
    "print(\"intersection of report_ids (reports.txt) and adversed_reactions_report – report_id (reactions.txt)\")\n",
    "print(len(reports_txt_report_ids.intersection(reactions_txt_adv_react_reps)))"
   ]
  },
  {
   "cell_type": "code",
   "execution_count": 16,
   "metadata": {},
   "outputs": [
    {
     "name": "stdout",
     "output_type": "stream",
     "text": [
      "intersection of report_ids (report_drug.txt) and adversed_reactions_report – report_id (reactions.txt)\n",
      "776246\n"
     ]
    }
   ],
   "source": [
    "print(\"intersection of report_ids (report_drug.txt) and adversed_reactions_report – report_id (reactions.txt)\")\n",
    "print(len(report_drug_txt_report_ids.intersection(reactions_txt_adv_react_reps)))"
   ]
  },
  {
   "cell_type": "code",
   "execution_count": null,
   "metadata": {},
   "outputs": [],
   "source": []
  }
 ],
 "metadata": {
  "kernelspec": {
   "display_name": "Python 3",
   "language": "python",
   "name": "python3"
  },
  "language_info": {
   "codemirror_mode": {
    "name": "ipython",
    "version": 3
   },
   "file_extension": ".py",
   "mimetype": "text/x-python",
   "name": "python",
   "nbconvert_exporter": "python",
   "pygments_lexer": "ipython3",
   "version": "3.8.5"
  }
 },
 "nbformat": 4,
 "nbformat_minor": 4
}
